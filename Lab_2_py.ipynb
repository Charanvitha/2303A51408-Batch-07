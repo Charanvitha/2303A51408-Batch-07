{
  "nbformat": 4,
  "nbformat_minor": 0,
  "metadata": {
    "colab": {
      "provenance": [],
      "authorship_tag": "ABX9TyPORe3Xtd46irK55pjNfIdm",
      "include_colab_link": true
    },
    "kernelspec": {
      "name": "python3",
      "display_name": "Python 3"
    },
    "language_info": {
      "name": "python"
    }
  },
  "cells": [
    {
      "cell_type": "markdown",
      "metadata": {
        "id": "view-in-github",
        "colab_type": "text"
      },
      "source": [
        "<a href=\"https://colab.research.google.com/github/Charanvitha/2303A51408-Batch-07/blob/main/Lab_2_py.ipynb\" target=\"_parent\"><img src=\"https://colab.research.google.com/assets/colab-badge.svg\" alt=\"Open In Colab\"/></a>"
      ]
    },
    {
      "cell_type": "markdown",
      "source": [
        "2303A51408\n",
        "Batch-07\n",
        "Lab-02\n"
      ],
      "metadata": {
        "id": "RDRpkG16-Bfj"
      }
    },
    {
      "cell_type": "markdown",
      "source": [
        "**1.Student Grades Analysis Using NumPy Arrays**"
      ],
      "metadata": {
        "id": "slDie7v39rbZ"
      }
    },
    {
      "cell_type": "code",
      "execution_count": null,
      "metadata": {
        "id": "EY9_ZSMSxneQ"
      },
      "outputs": [],
      "source": [
        "import numpy as np"
      ]
    },
    {
      "cell_type": "code",
      "source": [
        "\n",
        "marks=np.array([[70,95,99],[93,85,76],[67,91,55]])\n",
        "\n",
        "print(np.mean(marks))\n",
        "print(\"The average marks of students:\",np.mean(arr))\n",
        "print(np.min(marks))\n",
        "print(\"The minimum marks of students:\",np.min(arr))\n",
        "print(np.max(marks))\n",
        "print(\"The maximum marks of students:\",np.max(arr))"
      ],
      "metadata": {
        "colab": {
          "base_uri": "https://localhost:8080/"
        },
        "id": "PvWaHs_-x-bQ",
        "outputId": "e650cf21-4e7e-447f-9b8a-7a9685bc5691"
      },
      "execution_count": null,
      "outputs": [
        {
          "output_type": "stream",
          "name": "stdout",
          "text": [
            "81.22222222222223\n",
            "The average marks of students: 88.0\n",
            "55\n",
            "The minimum marks of students: 70\n",
            "99\n",
            "The maximum marks of students: 99\n"
          ]
        }
      ]
    },
    {
      "cell_type": "code",
      "source": [
        "#Use slicing to retrieve marks of specific students\n",
        "print(marks[2])"
      ],
      "metadata": {
        "colab": {
          "base_uri": "https://localhost:8080/"
        },
        "id": "VsEMbGAX0fRh",
        "outputId": "fe9e26a2-7d60-4289-c50a-995b7fe156a2"
      },
      "execution_count": null,
      "outputs": [
        {
          "output_type": "stream",
          "name": "stdout",
          "text": [
            "[67 91 55]\n"
          ]
        }
      ]
    },
    {
      "cell_type": "code",
      "source": [
        "#Use boolean indexing to find students scoring above 80\n",
        "above_80=marks>80\n",
        "print(\"marks above 80:\",above_80)"
      ],
      "metadata": {
        "colab": {
          "base_uri": "https://localhost:8080/"
        },
        "id": "tJIDdbGT01s3",
        "outputId": "33a2cf71-9ec2-4549-9acc-b8e00c8e6627"
      },
      "execution_count": null,
      "outputs": [
        {
          "output_type": "stream",
          "name": "stdout",
          "text": [
            "marks above 80: [[False  True  True]\n",
            " [ True  True False]\n",
            " [False  True False]]\n"
          ]
        }
      ]
    },
    {
      "cell_type": "code",
      "source": [
        "#Reshape the array to observe subject-wise performance\n",
        "reshaped_arr=marks.T\n",
        "print(\"Subject wise performance:\",reshaped_arr)\n"
      ],
      "metadata": {
        "colab": {
          "base_uri": "https://localhost:8080/"
        },
        "id": "-gGVi7Iu1dKN",
        "outputId": "12588b17-955c-4c2c-ed5d-e4976e2ce1d9"
      },
      "execution_count": null,
      "outputs": [
        {
          "output_type": "stream",
          "name": "stdout",
          "text": [
            "Subject wise performance: [[70 93 67]\n",
            " [95 85 91]\n",
            " [99 76 55]]\n"
          ]
        }
      ]
    },
    {
      "cell_type": "markdown",
      "source": [
        "**2.Employee Salary Analysis with pandas DataFrame**"
      ],
      "metadata": {
        "id": "fSmdLuDA9vPh"
      }
    },
    {
      "cell_type": "code",
      "source": [
        "import pandas as pd"
      ],
      "metadata": {
        "id": "2Eu7uTXi96lu"
      },
      "execution_count": null,
      "outputs": []
    },
    {
      "cell_type": "code",
      "source": [
        "data={\n",
        "    'EmployeeName':['John','Jane','Mike','Emily','David'],\n",
        "    'EmployeeID':[101,102,103,104,105],\n",
        "    'Department':['HR','IT','Finance','HR','IT'],\n",
        "    'Salary':[60000,75000,55000,62000,70000]\n",
        "}"
      ],
      "metadata": {
        "id": "f_C1C3Ew-XgR"
      },
      "execution_count": null,
      "outputs": []
    },
    {
      "cell_type": "code",
      "source": [
        "#Filter employees with salary > 50,000\n",
        "df=pd.DataFrame(data)\n",
        "filtered_df=df[df['Salary']>50000]\n",
        "print(filtered_df)"
      ],
      "metadata": {
        "colab": {
          "base_uri": "https://localhost:8080/"
        },
        "id": "ASnBsZ2v-1F-",
        "outputId": "7fe529fb-3c20-4574-b219-bfa3dc42a6e1"
      },
      "execution_count": null,
      "outputs": [
        {
          "output_type": "stream",
          "name": "stdout",
          "text": [
            "  EmployeeName  EmployeeID Department  Salary\n",
            "0         John         101         HR   60000\n",
            "1         Jane         102         IT   75000\n",
            "2         Mike         103    Finance   55000\n",
            "3        Emily         104         HR   62000\n",
            "4        David         105         IT   70000\n"
          ]
        }
      ]
    },
    {
      "cell_type": "code",
      "source": [
        "#Sort the DataFrame by salary in descending order\n",
        "sorted_df=df.sort_values(by='Salary',ascending=False)\n",
        "print(sorted_df)"
      ],
      "metadata": {
        "colab": {
          "base_uri": "https://localhost:8080/"
        },
        "id": "5JDoymVX-93Q",
        "outputId": "6fab73ef-fa3b-412b-af0a-e690fec539ce"
      },
      "execution_count": null,
      "outputs": [
        {
          "output_type": "stream",
          "name": "stdout",
          "text": [
            "  EmployeeName  EmployeeID Department  Salary\n",
            "1         Jane         102         IT   75000\n",
            "4        David         105         IT   70000\n",
            "3        Emily         104         HR   62000\n",
            "0         John         101         HR   60000\n",
            "2         Mike         103    Finance   55000\n"
          ]
        }
      ]
    },
    {
      "cell_type": "code",
      "source": [
        "#Add a new column for Bonus (10% of salary)\n",
        "df['Bonus']=0.1*df['Salary']\n",
        "print(df)"
      ],
      "metadata": {
        "colab": {
          "base_uri": "https://localhost:8080/"
        },
        "id": "V5zb-i9C_GV9",
        "outputId": "31d6a40e-e1b1-4763-ed18-20de8d5e536c"
      },
      "execution_count": null,
      "outputs": [
        {
          "output_type": "stream",
          "name": "stdout",
          "text": [
            "  EmployeeName  EmployeeID Department  Salary   Bonus\n",
            "0         John         101         HR   60000  6000.0\n",
            "1         Jane         102         IT   75000  7500.0\n",
            "2         Mike         103    Finance   55000  5500.0\n",
            "3        Emily         104         HR   62000  6200.0\n",
            "4        David         105         IT   70000  7000.0\n"
          ]
        }
      ]
    },
    {
      "cell_type": "code",
      "source": [
        "#Calculate total salary expense including bonuses\n",
        "total_expense=df['Salary'].sum()+df['Bonus'].sum()\n",
        "print(\"Total salary expense including bonuses:\",total_expense)"
      ],
      "metadata": {
        "colab": {
          "base_uri": "https://localhost:8080/"
        },
        "id": "Bij1bW9I_LuU",
        "outputId": "7dc0177f-a1a7-4566-92e0-00fc7c6abe73"
      },
      "execution_count": null,
      "outputs": [
        {
          "output_type": "stream",
          "name": "stdout",
          "text": [
            "Total salary expense including bonuses: 354200.0\n"
          ]
        }
      ]
    },
    {
      "cell_type": "code",
      "source": [
        "#Save the DataFrame to a CSV file\n",
        "df.to_csv('employee_data.csv',index=False)\n",
        "print(\"Saved to employee_salary_with_bonus.csv\")"
      ],
      "metadata": {
        "colab": {
          "base_uri": "https://localhost:8080/"
        },
        "id": "W102DAV-_bok",
        "outputId": "81b9ee2c-48af-4d2f-ac67-115411efb59b"
      },
      "execution_count": null,
      "outputs": [
        {
          "output_type": "stream",
          "name": "stdout",
          "text": [
            "Saved to employee_salary_with_bonus.csv\n"
          ]
        }
      ]
    }
  ]
}