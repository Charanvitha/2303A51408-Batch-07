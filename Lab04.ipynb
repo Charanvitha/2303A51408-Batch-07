{
  "nbformat": 4,
  "nbformat_minor": 0,
  "metadata": {
    "colab": {
      "provenance": [],
      "authorship_tag": "ABX9TyNudRSGEXm5RqSP7fpqsUyF",
      "include_colab_link": true
    },
    "kernelspec": {
      "name": "python3",
      "display_name": "Python 3"
    },
    "language_info": {
      "name": "python"
    }
  },
  "cells": [
    {
      "cell_type": "markdown",
      "metadata": {
        "id": "view-in-github",
        "colab_type": "text"
      },
      "source": [
        "<a href=\"https://colab.research.google.com/github/Charanvitha/2303A51408-Batch-07/blob/main/Lab04.ipynb\" target=\"_parent\"><img src=\"https://colab.research.google.com/assets/colab-badge.svg\" alt=\"Open In Colab\"/></a>"
      ]
    },
    {
      "cell_type": "markdown",
      "source": [
        "Lab-04   2303A51408_B07\n",
        "\n",
        "\n",
        "1.Student Marks Analysis"
      ],
      "metadata": {
        "id": "7Y4muQ_U3z0_"
      }
    },
    {
      "cell_type": "code",
      "source": [
        "import pandas as pd"
      ],
      "metadata": {
        "id": "-_WK0bZ700gd"
      },
      "execution_count": 9,
      "outputs": []
    },
    {
      "cell_type": "code",
      "source": [
        "#Read the CSV file\n",
        "df = pd.read_csv(\"student_scores.csv\")\n",
        "\n",
        "print(\"Original Data:\")\n",
        "print(df, \"\\n\")"
      ],
      "metadata": {
        "colab": {
          "base_uri": "https://localhost:8080/"
        },
        "id": "Qh9I8ulC04K_",
        "outputId": "bfd9767d-ecdf-420d-a591-b081fbc854dd"
      },
      "execution_count": 11,
      "outputs": [
        {
          "output_type": "stream",
          "name": "stdout",
          "text": [
            "Original Data:\n",
            "   Student_ID     Name  Math  Science  English\n",
            "0         101    Aarav  85.0     78.0     92.0\n",
            "1         102     Isha  90.0      NaN     88.0\n",
            "2         103   Vihaan  72.0     80.0      NaN\n",
            "3         104   Ananya   NaN     76.0     81.0\n",
            "4         105   Aditya  88.0     91.0     77.0\n",
            "5         106    Divya  95.0     89.0     94.0\n",
            "6         107  Krishna  68.0      NaN     72.0\n",
            "7         108   Saanvi  78.0     85.0     80.0\n",
            "8         109    Arjun  82.0     79.0      NaN\n",
            "9         110    Meera   NaN     84.0     90.0 \n",
            "\n"
          ]
        }
      ]
    },
    {
      "cell_type": "code",
      "source": [
        "#Fill missing subject marks with column-wise average\n",
        "df_filled = df.fillna(df.mean(numeric_only=True))\n",
        "\n",
        "print(\"After Filling Missing Values (with column averages):\")\n",
        "print(df_filled, \"\\n\")\n"
      ],
      "metadata": {
        "colab": {
          "base_uri": "https://localhost:8080/"
        },
        "id": "6EJHwA4i2g63",
        "outputId": "ee0a4e43-6bca-4c9e-bd7e-c1d8059a7575"
      },
      "execution_count": 12,
      "outputs": [
        {
          "output_type": "stream",
          "name": "stdout",
          "text": [
            "After Filling Missing Values (with column averages):\n",
            "   Student_ID     Name   Math  Science  English\n",
            "0         101    Aarav  85.00    78.00    92.00\n",
            "1         102     Isha  90.00    82.75    88.00\n",
            "2         103   Vihaan  72.00    80.00    84.25\n",
            "3         104   Ananya  82.25    76.00    81.00\n",
            "4         105   Aditya  88.00    91.00    77.00\n",
            "5         106    Divya  95.00    89.00    94.00\n",
            "6         107  Krishna  68.00    82.75    72.00\n",
            "7         108   Saanvi  78.00    85.00    80.00\n",
            "8         109    Arjun  82.00    79.00    84.25\n",
            "9         110    Meera  82.25    84.00    90.00 \n",
            "\n"
          ]
        }
      ]
    },
    {
      "cell_type": "markdown",
      "source": [],
      "metadata": {
        "id": "IAOB9sNB2sNx"
      }
    },
    {
      "cell_type": "code",
      "source": [
        "#Filter students who scored more than 75 in all subjects\n",
        "high_achievers = df_filled[(df_filled['Math'] > 75) &\n",
        "                           (df_filled['Science'] > 75) &\n",
        "                           (df_filled['English'] > 75)]\n",
        "\n",
        "print(\"High Achievers (scored > 75 in all subjects):\")\n",
        "print(high_achievers)"
      ],
      "metadata": {
        "colab": {
          "base_uri": "https://localhost:8080/"
        },
        "id": "VVAQFrpm2fFl",
        "outputId": "251d3859-499f-4548-e003-3326e9fd7957"
      },
      "execution_count": 13,
      "outputs": [
        {
          "output_type": "stream",
          "name": "stdout",
          "text": [
            "High Achievers (scored > 75 in all subjects):\n",
            "   Student_ID    Name   Math  Science  English\n",
            "0         101   Aarav  85.00    78.00    92.00\n",
            "1         102    Isha  90.00    82.75    88.00\n",
            "3         104  Ananya  82.25    76.00    81.00\n",
            "4         105  Aditya  88.00    91.00    77.00\n",
            "5         106   Divya  95.00    89.00    94.00\n",
            "7         108  Saanvi  78.00    85.00    80.00\n",
            "8         109   Arjun  82.00    79.00    84.25\n",
            "9         110   Meera  82.25    84.00    90.00\n"
          ]
        }
      ]
    },
    {
      "cell_type": "markdown",
      "source": [
        "2.Hospital Patient Records"
      ],
      "metadata": {
        "id": "zT47mmFE4jhZ"
      }
    },
    {
      "cell_type": "code",
      "source": [
        "import pandas as pd"
      ],
      "metadata": {
        "id": "qA75LaVK4vlv"
      },
      "execution_count": 19,
      "outputs": []
    },
    {
      "cell_type": "code",
      "source": [
        "#Load the dataset\n",
        "df = pd.read_csv(\"patients.csv\")\n",
        "print(\"Original Data:\")\n",
        "print(df, \"\\n\")"
      ],
      "metadata": {
        "colab": {
          "base_uri": "https://localhost:8080/"
        },
        "id": "R7q5day68IW-",
        "outputId": "7f97fb09-f753-4e46-8828-36bb33629d70"
      },
      "execution_count": 20,
      "outputs": [
        {
          "output_type": "stream",
          "name": "stdout",
          "text": [
            "Original Data:\n",
            "  Patient_ID     Name   Age  Gender      Diagnosis Admission_Date\n",
            "0       P101    Meera  55.0  Female       Diabetes      3/12/2025\n",
            "1       P102    Aarav   NaN    Male   Hypertension      2/18/2025\n",
            "2       P103   Ananya   NaN  Female       Diabetes      1/25/2025\n",
            "3       P104  Krishna  47.0    Male         Asthma       3/5/2025\n",
            "4       P105   Saanvi  72.0  Female       Diabetes      2/10/2025\n",
            "5       P106   Aditya  34.0    Male       Fracture      3/19/2025\n",
            "6       P107     Isha   NaN  Female       Diabetes      1/15/2025\n",
            "7       P108   Vihaan  50.0    Male  Heart Disease      2/28/2025\n",
            "8       P109     Diya   NaN  Female   Hypertension       3/2/2025\n",
            "9       P110    Arjun  66.0    Male       Diabetes      3/14/2025 \n",
            "\n"
          ]
        }
      ]
    },
    {
      "cell_type": "code",
      "source": [
        "#Replace missing Age values with median\n",
        "median_age = df['Age'].median()\n",
        "df['Age'] = df['Age'].fillna(median_age)\n",
        "print(\"After Filling Missing Ages with Median:\")\n",
        "print(df, \"\\n\")"
      ],
      "metadata": {
        "colab": {
          "base_uri": "https://localhost:8080/"
        },
        "id": "tfrEXsw-8UIE",
        "outputId": "eae6602c-2631-4a42-ace4-0cdb9caf6758"
      },
      "execution_count": 21,
      "outputs": [
        {
          "output_type": "stream",
          "name": "stdout",
          "text": [
            "After Filling Missing Ages with Median:\n",
            "  Patient_ID     Name   Age  Gender      Diagnosis Admission_Date\n",
            "0       P101    Meera  55.0  Female       Diabetes      3/12/2025\n",
            "1       P102    Aarav  52.5    Male   Hypertension      2/18/2025\n",
            "2       P103   Ananya  52.5  Female       Diabetes      1/25/2025\n",
            "3       P104  Krishna  47.0    Male         Asthma       3/5/2025\n",
            "4       P105   Saanvi  72.0  Female       Diabetes      2/10/2025\n",
            "5       P106   Aditya  34.0    Male       Fracture      3/19/2025\n",
            "6       P107     Isha  52.5  Female       Diabetes      1/15/2025\n",
            "7       P108   Vihaan  50.0    Male  Heart Disease      2/28/2025\n",
            "8       P109     Diya  52.5  Female   Hypertension       3/2/2025\n",
            "9       P110    Arjun  66.0    Male       Diabetes      3/14/2025 \n",
            "\n"
          ]
        }
      ]
    },
    {
      "cell_type": "code",
      "source": [
        "#Filter female patients aged above 50 diagnosed with Diabetes\n",
        "elderly_female_diabetes = df[\n",
        "    (df['Gender'] == 'Female') &\n",
        "    (df['Age'] > 50) &\n",
        "    (df['Diagnosis'].str.lower() == 'diabetes')\n",
        "]\n",
        "\n",
        "print(\"Elderly Female Patients with Diabetes:\")\n",
        "print(elderly_female_diabetes, \"\\n\")"
      ],
      "metadata": {
        "colab": {
          "base_uri": "https://localhost:8080/"
        },
        "id": "UQ-S34RN9FQl",
        "outputId": "c3c7dbd4-6f90-4baa-a396-b2c653dd0f9b"
      },
      "execution_count": 24,
      "outputs": [
        {
          "output_type": "stream",
          "name": "stdout",
          "text": [
            "Elderly Female Patients with Diabetes:\n",
            "  Patient_ID    Name   Age  Gender Diagnosis Admission_Date\n",
            "0       P101   Meera  55.0  Female  Diabetes      3/12/2025\n",
            "2       P103  Ananya  52.5  Female  Diabetes      1/25/2025\n",
            "4       P105  Saanvi  72.0  Female  Diabetes      2/10/2025\n",
            "6       P107    Isha  52.5  Female  Diabetes      1/15/2025 \n",
            "\n"
          ]
        }
      ]
    }
  ]
}