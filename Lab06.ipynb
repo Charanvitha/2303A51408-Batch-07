{
  "nbformat": 4,
  "nbformat_minor": 0,
  "metadata": {
    "colab": {
      "provenance": [],
      "authorship_tag": "ABX9TyPPQcoCI8p90AAGD643rOoE",
      "include_colab_link": true
    },
    "kernelspec": {
      "name": "python3",
      "display_name": "Python 3"
    },
    "language_info": {
      "name": "python"
    }
  },
  "cells": [
    {
      "cell_type": "markdown",
      "metadata": {
        "id": "view-in-github",
        "colab_type": "text"
      },
      "source": [
        "<a href=\"https://colab.research.google.com/github/Charanvitha/2303A51408-Batch-07/blob/main/Lab06.ipynb\" target=\"_parent\"><img src=\"https://colab.research.google.com/assets/colab-badge.svg\" alt=\"Open In Colab\"/></a>"
      ]
    },
    {
      "cell_type": "markdown",
      "source": [
        "2303A51408\n",
        "Batch-07\n",
        "\n",
        "Lab-06\n",
        "> Add blockquote\n",
        "\n"
      ],
      "metadata": {
        "id": "ERAyrwgKMdDN"
      }
    },
    {
      "cell_type": "markdown",
      "source": [
        "1.Sales dataset - removing duplicates"
      ],
      "metadata": {
        "id": "MiKd3W7ANPbA"
      }
    },
    {
      "cell_type": "code",
      "execution_count": 1,
      "metadata": {
        "id": "h-iHFwDjMYEV"
      },
      "outputs": [],
      "source": [
        "import pandas as pd"
      ]
    },
    {
      "cell_type": "code",
      "source": [
        " data = {\n",
        " \"Transaction_ID\": [101, 102, 103, 104, 101, 102],\n",
        " \"Customer\": [\"Alice\", \"Bob\", \"Charlie\", \"David\", \"Alice\", \"Bob\"],\n",
        " \"Amount\": [250, 300, 400, 150, 250, 300],\n",
        " \"Date\": [\"2025-09-01\", \"2025-09-02\", \"2025-09-03\", \"2025-09-04\",\n",
        " \"2025-09-01\", \"2025-09-02\"]\n",
        " }\n",
        " sales_df = pd.DataFrame(data)"
      ],
      "metadata": {
        "id": "RtBMalSMMg3v"
      },
      "execution_count": 2,
      "outputs": []
    },
    {
      "cell_type": "code",
      "source": [
        "print(\"Dataset BEFORE removing duplicates:\")\n",
        "print(sales_df)\n",
        "print(\"\\nDuplicate count:\", sales_df.duplicated().sum())"
      ],
      "metadata": {
        "colab": {
          "base_uri": "https://localhost:8080/"
        },
        "id": "qXG_bGDHMrGz",
        "outputId": "a5452b55-dd8c-49d7-e27b-08bacd6b87a9"
      },
      "execution_count": 3,
      "outputs": [
        {
          "output_type": "stream",
          "name": "stdout",
          "text": [
            "Dataset BEFORE removing duplicates:\n",
            "   Transaction_ID Customer  Amount        Date\n",
            "0             101    Alice     250  2025-09-01\n",
            "1             102      Bob     300  2025-09-02\n",
            "2             103  Charlie     400  2025-09-03\n",
            "3             104    David     150  2025-09-04\n",
            "4             101    Alice     250  2025-09-01\n",
            "5             102      Bob     300  2025-09-02\n",
            "\n",
            "Duplicate count: 2\n"
          ]
        }
      ]
    },
    {
      "cell_type": "code",
      "source": [
        "sales_df_cleaned = sales_df.drop_duplicates()"
      ],
      "metadata": {
        "id": "K0f1PyNNMv9X"
      },
      "execution_count": 4,
      "outputs": []
    },
    {
      "cell_type": "code",
      "source": [
        " print(\"\\nDataset AFTER removing duplicates:\")\n",
        " print(sales_df_cleaned)\n",
        " print(\"\\nDuplicate count:\", sales_df_cleaned.duplicated().sum())"
      ],
      "metadata": {
        "colab": {
          "base_uri": "https://localhost:8080/"
        },
        "id": "p5uvLQAGMzU8",
        "outputId": "b6bd0f61-c6ac-4f20-f975-5bfc7b7a39fd"
      },
      "execution_count": 5,
      "outputs": [
        {
          "output_type": "stream",
          "name": "stdout",
          "text": [
            "\n",
            "Dataset AFTER removing duplicates:\n",
            "   Transaction_ID Customer  Amount        Date\n",
            "0             101    Alice     250  2025-09-01\n",
            "1             102      Bob     300  2025-09-02\n",
            "2             103  Charlie     400  2025-09-03\n",
            "3             104    David     150  2025-09-04\n",
            "\n",
            "Duplicate count: 0\n"
          ]
        }
      ]
    },
    {
      "cell_type": "markdown",
      "source": [
        "2.Employee Dataset-converting data types\n",
        "\n"
      ],
      "metadata": {
        "id": "FM-6rsdnNhOg"
      }
    },
    {
      "cell_type": "code",
      "source": [
        "import pandas as pd"
      ],
      "metadata": {
        "id": "qtchlayBM3Ht"
      },
      "execution_count": 6,
      "outputs": []
    },
    {
      "cell_type": "code",
      "source": [
        " data = {\n",
        " \"Employee_ID\": [1, 2, 3],\n",
        " \"Name\": [\"John\", \"Sara\", \"Mike\"],\n",
        " \"Salary\": [\"50000\", \"60000\", \"55000\"],  # stored as string\n",
        " \"Joining_Date\": [\"2025-01-15\", \"2025-03-10\", \"2025-04-05\"]  # stored as string\n",
        " }\n",
        " employee_df = pd.DataFrame(data)"
      ],
      "metadata": {
        "id": "IY5rdZT2Nzuc"
      },
      "execution_count": 7,
      "outputs": []
    },
    {
      "cell_type": "code",
      "source": [
        " print(\"BEFORE Conversion:\")\n",
        " print(employee_df.dtypes)"
      ],
      "metadata": {
        "colab": {
          "base_uri": "https://localhost:8080/"
        },
        "id": "JQCYpv8NN4ch",
        "outputId": "6264f2aa-7e56-41f7-eeed-4a6ceb6b5a38"
      },
      "execution_count": 8,
      "outputs": [
        {
          "output_type": "stream",
          "name": "stdout",
          "text": [
            "BEFORE Conversion:\n",
            "Employee_ID      int64\n",
            "Name            object\n",
            "Salary          object\n",
            "Joining_Date    object\n",
            "dtype: object\n"
          ]
        }
      ]
    },
    {
      "cell_type": "code",
      "source": [
        "employee_df[\"Salary\"] = pd.to_numeric(employee_df[\"Salary\"])\n",
        "employee_df[\"Joining_Date\"] = pd.to_datetime(employee_df[\"Joining_Date\"])"
      ],
      "metadata": {
        "id": "jqJsVQ9pN_lS"
      },
      "execution_count": 9,
      "outputs": []
    },
    {
      "cell_type": "code",
      "source": [
        "print(\"\\nAFTER Conversion:\")\n",
        "print(employee_df.dtypes)"
      ],
      "metadata": {
        "colab": {
          "base_uri": "https://localhost:8080/"
        },
        "id": "Zf_OyDG6ODkw",
        "outputId": "22b7f653-4c70-475d-dffb-1932d081bb62"
      },
      "execution_count": 10,
      "outputs": [
        {
          "output_type": "stream",
          "name": "stdout",
          "text": [
            "\n",
            "AFTER Conversion:\n",
            "Employee_ID              int64\n",
            "Name                    object\n",
            "Salary                   int64\n",
            "Joining_Date    datetime64[ns]\n",
            "dtype: object\n"
          ]
        }
      ]
    },
    {
      "cell_type": "code",
      "source": [
        " print(\"\\nCorrected Employee Dataset:\")\n",
        " print(employee_df)"
      ],
      "metadata": {
        "colab": {
          "base_uri": "https://localhost:8080/"
        },
        "id": "xcpBOd6NOIkk",
        "outputId": "99265ee6-ffab-4738-9fb6-453c190cc0c7"
      },
      "execution_count": 11,
      "outputs": [
        {
          "output_type": "stream",
          "name": "stdout",
          "text": [
            "\n",
            "Corrected Employee Dataset:\n",
            "   Employee_ID  Name  Salary Joining_Date\n",
            "0            1  John   50000   2025-01-15\n",
            "1            2  Sara   60000   2025-03-10\n",
            "2            3  Mike   55000   2025-04-05\n"
          ]
        }
      ]
    }
  ]
}