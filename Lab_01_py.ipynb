{
  "nbformat": 4,
  "nbformat_minor": 0,
  "metadata": {
    "colab": {
      "provenance": [],
      "authorship_tag": "ABX9TyOFOEmv9Ww77FjLn7BowTVc",
      "include_colab_link": true
    },
    "kernelspec": {
      "name": "python3",
      "display_name": "Python 3"
    },
    "language_info": {
      "name": "python"
    }
  },
  "cells": [
    {
      "cell_type": "markdown",
      "metadata": {
        "id": "view-in-github",
        "colab_type": "text"
      },
      "source": [
        "<a href=\"https://colab.research.google.com/github/Charanvitha/2303A51408-Batch-07/blob/main/Lab_01_py.ipynb\" target=\"_parent\"><img src=\"https://colab.research.google.com/assets/colab-badge.svg\" alt=\"Open In Colab\"/></a>"
      ]
    },
    {
      "cell_type": "markdown",
      "source": [
        "1.**Recursive** Call Stack Visualization"
      ],
      "metadata": {
        "id": "HKAzalfXPkNC"
      }
    },
    {
      "cell_type": "code",
      "execution_count": null,
      "metadata": {
        "colab": {
          "base_uri": "https://localhost:8080/"
        },
        "id": "sLGKK-_YMquN",
        "outputId": "1e1bcb0c-ac8c-43fe-e4cf-7289852e4e98"
      },
      "outputs": [
        {
          "output_type": "stream",
          "name": "stdout",
          "text": [
            "Enter number (0-10): 4\n",
            "\n",
            "Tracing:\n",
            "\n",
            "fact(4) called\n",
            "  fact(3) called\n",
            "    fact(2) called\n",
            "      fact(1) called\n",
            "      Base case: return 1\n",
            "    Returning 2\n",
            "  Returning 6\n",
            "Returning 24\n",
            "Result: 24\n"
          ]
        }
      ],
      "source": [
        "def fact(n, depth=0):\n",
        "    indent = \"  \" * depth\n",
        "    print(f\"{indent}fact({n}) called\")\n",
        "    if n == 0 or n == 1:\n",
        "        print(f\"{indent}Base case: return 1\")\n",
        "        return 1\n",
        "    result = n * fact(n - 1, depth + 1)\n",
        "    print(f\"{indent}Returning {result}\")\n",
        "    return result\n",
        "\n",
        "num = int(input(\"Enter number (0-10): \"))\n",
        "if 0 <= num <= 10:\n",
        "    print(\"\\nTracing:\\n\")\n",
        "    print(f\"Result: {fact(num)}\")\n",
        "else:\n",
        "    print(\"Enter number between 0 and 10\")\n"
      ]
    },
    {
      "cell_type": "markdown",
      "source": [
        "**2.Compare Recursive vs Iterative Approaches**"
      ],
      "metadata": {
        "id": "Zy_Ik14zP5HD"
      }
    },
    {
      "cell_type": "code",
      "source": [
        "import time\n",
        "import sys\n",
        "\n",
        "def fact_recursive(n):\n",
        "    if n == 0 or n == 1:\n",
        "        return 1\n",
        "    return n * fact_recursive(n - 1)\n",
        "\n",
        "def fact_iterative(n):\n",
        "    result = 1\n",
        "    for i in range(2, n + 1):\n",
        "        result *= i\n",
        "    return result\n",
        "\n",
        "try:\n",
        "    n = int(input(\"Enter number (0-10): \"))\n",
        "    if n < 0 or n > 10:\n",
        "        print(\"Please enter a number between 0 and 10.\")\n",
        "    else:\n",
        "\n",
        "        start_r = time.time()\n",
        "        res_r = fact_recursive(n)\n",
        "        end_r = time.time()\n",
        "\n",
        "        start_i = time.time()\n",
        "        res_i = fact_iterative(n)\n",
        "        end_i = time.time()\n",
        "\n",
        "        mem_r = sys.getsizeof(res_r)\n",
        "        mem_i = sys.getsizeof(res_i)\n",
        "\n",
        "        print(\"\\nComparison Table\")\n",
        "        print(f\"{'Method':<12}{'Result':<10}{'Time (s)':<12}{'Memory (bytes)':<15}\")\n",
        "        print(\"-\" * 50)\n",
        "        print(f\"{'Recursive':<12}{res_r:<10}{end_r - start_r:<12.8f}{mem_r:<15}\")\n",
        "        print(f\"{'Iterative':<12}{res_i:<10}{end_i - start_i:<12.8f}{mem_i:<15}\")\n",
        "\n",
        "except ValueError:\n",
        "    print(\"Invalid input! Please enter an integer.\")\n"
      ],
      "metadata": {
        "colab": {
          "base_uri": "https://localhost:8080/"
        },
        "id": "ROo7C4BHP7Wk",
        "outputId": "99987c7e-2b08-4b6b-8a9f-eb789c6a0a21"
      },
      "execution_count": null,
      "outputs": [
        {
          "output_type": "stream",
          "name": "stdout",
          "text": [
            "Enter number (0-10): 4\n",
            "\n",
            "Comparison Table\n",
            "Method      Result    Time (s)    Memory (bytes) \n",
            "--------------------------------------------------\n",
            "Recursive   24        0.00000477  28             \n",
            "Iterative   24        0.00000906  28             \n"
          ]
        }
      ]
    }
  ]
}